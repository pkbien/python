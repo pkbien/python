{
  "nbformat": 4,
  "nbformat_minor": 0,
  "metadata": {
    "colab": {
      "name": "createdataset.ipynb",
      "provenance": [],
      "collapsed_sections": []
    },
    "kernelspec": {
      "name": "python3",
      "display_name": "Python 3"
    }
  },
  "cells": [
    {
      "cell_type": "code",
      "metadata": {
        "id": "kpYsLBfRPAon"
      },
      "source": [
        "# Import libraries\n",
        "import pandas as pd\n",
        "import matplotlib.pyplot as plt\n",
        "import numpy.random as np\n",
        "import sys\n",
        "import matplotlib\n",
        "\n",
        "%matplotlib inline"
      ],
      "execution_count": null,
      "outputs": []
    },
    {
      "cell_type": "markdown",
      "metadata": {
        "id": "maOo_o0SR1E0"
      },
      "source": [
        "Import các thư viện cần thiết"
      ]
    },
    {
      "cell_type": "code",
      "metadata": {
        "id": "PGzEpWzlPJoG"
      },
      "source": [
        "print('Python version ' + sys.version)\n",
        "print('Pandas version: ' + pd.__version__)\n",
        "print('Matplotlib version ' + matplotlib.__version__)"
      ],
      "execution_count": null,
      "outputs": []
    },
    {
      "cell_type": "markdown",
      "metadata": {
        "id": "PnVAzxxjR5wU"
      },
      "source": [
        "Xem các version"
      ]
    },
    {
      "cell_type": "code",
      "metadata": {
        "id": "Y_FTnivtPumU"
      },
      "source": [
        "# set seed\n",
        "np.seed(111)\n",
        "\n",
        "# Tạo dữ liệu thử nghiệm\n",
        "def CreateDataSet(Number=1):\n",
        "    \n",
        "    Output = []\n",
        "    \n",
        "    for i in range(Number):\n",
        "        \n",
        "        # tạo phạm vi thứ 2 hàng tuần\n",
        "        rng = pd.date_range(start='1/1/2009', end='12/31/2012', freq='W-MON')\n",
        "        \n",
        "        #Tạo dữ liệu ngẫu nhiên\n",
        "        data = np.randint(low=25,high=1000,size=len(rng))\n",
        "        \n",
        "        # Nhóm trạng thái\n",
        "        status = [1,2,3]\n",
        "        \n",
        "        # Danh sách trạng thái ngẫu nhiên\n",
        "        random_status = [status[np.randint(low=0,high=len(status))] for i in range(len(rng))]\n",
        "        \n",
        "        # State pool\n",
        "        states = ['GA','FL','fl','NY','NJ','TX']\n",
        "        \n",
        "        # Danh sách trạng thái ngẫu nhiên \n",
        "        random_states = [states[np.randint(low=0,high=len(states))] for i in range(len(rng))]\n",
        "    \n",
        "        Output.extend(zip(random_states, random_status, data, rng))\n",
        "        \n",
        "    return Output"
      ],
      "execution_count": null,
      "outputs": []
    },
    {
      "cell_type": "markdown",
      "metadata": {
        "id": "XlrhW79uSKsU"
      },
      "source": [
        "Tạo dữ liệu"
      ]
    },
    {
      "cell_type": "code",
      "metadata": {
        "id": "Je1NA6jmPxt0"
      },
      "source": [
        "dataset = CreateDataSet(4)\n",
        "df = pd.DataFrame(data=dataset, columns=['State','Status','CustomerCount','StatusDate'])\n",
        "df.info()"
      ],
      "execution_count": null,
      "outputs": []
    },
    {
      "cell_type": "markdown",
      "metadata": {
        "id": "uazpRbLkS1SN"
      },
      "source": [
        "Tạo dữ liệu đưa vào khung"
      ]
    },
    {
      "cell_type": "code",
      "metadata": {
        "id": "1w9O5wK0Pzlk"
      },
      "source": [
        "df.head()"
      ],
      "execution_count": null,
      "outputs": []
    },
    {
      "cell_type": "markdown",
      "metadata": {
        "id": "t3Xnc9QZS9Sj"
      },
      "source": [
        "Xuất dữ liệu"
      ]
    },
    {
      "cell_type": "code",
      "metadata": {
        "id": "fcyHaowrP2Qc",
        "colab": {
          "base_uri": "https://localhost:8080/"
        },
        "outputId": "2e1c40e9-cd1f-4094-8871-c0ca6f9805c3"
      },
      "source": [
        "# Save results to excel\n",
        "df.to_excel('Lesson3.xlsx', index=False)\n",
        "print('Done')"
      ],
      "execution_count": null,
      "outputs": [
        {
          "output_type": "stream",
          "text": [
            "Done\n"
          ],
          "name": "stdout"
        }
      ]
    },
    {
      "cell_type": "markdown",
      "metadata": {
        "id": "sc6JF4uvTDxr"
      },
      "source": [
        "Save dữ liệu vào file excel"
      ]
    },
    {
      "cell_type": "code",
      "metadata": {
        "id": "ielTPrn0P4E9"
      },
      "source": [
        "pd.read_excel?"
      ],
      "execution_count": null,
      "outputs": []
    },
    {
      "cell_type": "markdown",
      "metadata": {
        "id": "tA8FsymUTgsM"
      },
      "source": [
        "hướng dẫn hàm đọc dữ liệu "
      ]
    },
    {
      "cell_type": "code",
      "metadata": {
        "id": "9ib1vCy5P7gt"
      },
      "source": [
        "# Location of file\n",
        "Location = r'/content/Lesson3.xlsx'\n",
        "\n",
        "# Parse a specific sheet\n",
        "df = pd.read_excel(Location, 0, index_col='StatusDate')\n",
        "df.dtypes"
      ],
      "execution_count": null,
      "outputs": []
    },
    {
      "cell_type": "markdown",
      "metadata": {
        "id": "PeEq0e6XUtq1"
      },
      "source": [
        "lấy file dữ liệu excel "
      ]
    },
    {
      "cell_type": "code",
      "metadata": {
        "id": "hdzi-h8JQV9s"
      },
      "source": [
        "df.index"
      ],
      "execution_count": null,
      "outputs": []
    },
    {
      "cell_type": "markdown",
      "metadata": {
        "id": "rubOiXHOUy2r"
      },
      "source": [
        "đọc dữ liệu"
      ]
    },
    {
      "cell_type": "code",
      "metadata": {
        "id": "vgRbaqemQXGl"
      },
      "source": [
        "df.head()"
      ],
      "execution_count": null,
      "outputs": []
    },
    {
      "cell_type": "markdown",
      "metadata": {
        "id": "LHaUUmC3U5Js"
      },
      "source": [
        "đọc dữ liệu "
      ]
    },
    {
      "cell_type": "code",
      "metadata": {
        "id": "TyvU4gXTQY4E"
      },
      "source": [
        "df['State'].unique()\n"
      ],
      "execution_count": null,
      "outputs": []
    },
    {
      "cell_type": "markdown",
      "metadata": {
        "id": "x0oKi7K5VVJL"
      },
      "source": [
        "giá trị trạng thái"
      ]
    },
    {
      "cell_type": "code",
      "metadata": {
        "id": "ClQtGQ3pQaNV"
      },
      "source": [
        "#Chuyển đổi thành chữ hoa và xóa bộ nhớ đệm \n",
        "df['State'] = df.State.apply(lambda x: x.upper())"
      ],
      "execution_count": null,
      "outputs": []
    },
    {
      "cell_type": "code",
      "metadata": {
        "id": "cEStLWKdQbWN",
        "colab": {
          "base_uri": "https://localhost:8080/"
        },
        "outputId": "b733cee7-847b-4c22-c849-2b80f2dc4987"
      },
      "source": [
        "df['State'].unique()"
      ],
      "execution_count": null,
      "outputs": [
        {
          "output_type": "execute_result",
          "data": {
            "text/plain": [
              "array(['GA', 'FL', 'TX', 'NY', 'NJ'], dtype=object)"
            ]
          },
          "metadata": {
            "tags": []
          },
          "execution_count": 56
        }
      ]
    },
    {
      "cell_type": "code",
      "metadata": {
        "id": "K9XQo4BHQdWF"
      },
      "source": [
        "#chỉ lấy status =1\n",
        "mask = df['Status'] == 1\n",
        "df = df[mask]"
      ],
      "execution_count": null,
      "outputs": []
    },
    {
      "cell_type": "code",
      "metadata": {
        "id": "Jst0pTLAQij0"
      },
      "source": [
        "\n",
        "mask = df.State == 'NJ'\n",
        "df['State'][mask] = 'NY'"
      ],
      "execution_count": null,
      "outputs": []
    },
    {
      "cell_type": "markdown",
      "metadata": {
        "id": "-pgnvPrnVyLr"
      },
      "source": [
        "Chuyển NJ thành NY"
      ]
    },
    {
      "cell_type": "code",
      "metadata": {
        "id": "ES1B7kjnQqs0",
        "colab": {
          "base_uri": "https://localhost:8080/"
        },
        "outputId": "04299539-6192-4878-8ead-1bbe8f8a3ccb"
      },
      "source": [
        "df['State'].unique()"
      ],
      "execution_count": null,
      "outputs": [
        {
          "output_type": "execute_result",
          "data": {
            "text/plain": [
              "array(['GA', 'FL', 'NY', 'TX'], dtype=object)"
            ]
          },
          "metadata": {
            "tags": []
          },
          "execution_count": 59
        }
      ]
    },
    {
      "cell_type": "code",
      "metadata": {
        "id": "b1I_g3CmQsIk"
      },
      "source": [
        "df['CustomerCount'].plot(figsize=(15,5));"
      ],
      "execution_count": null,
      "outputs": []
    },
    {
      "cell_type": "markdown",
      "metadata": {
        "id": "khVdo9zFWAX7"
      },
      "source": [
        "Vẽ biểu đồ"
      ]
    },
    {
      "cell_type": "code",
      "metadata": {
        "id": "omVLby9HQtsc"
      },
      "source": [
        "sortdf = df[df['State']=='NY'].sort_index(axis=0)\n",
        "sortdf.head(10)"
      ],
      "execution_count": null,
      "outputs": []
    },
    {
      "cell_type": "markdown",
      "metadata": {
        "id": "FujF4-0JWJw9"
      },
      "source": [
        "Sắp xếp dữ liệu"
      ]
    },
    {
      "cell_type": "code",
      "metadata": {
        "id": "bMzfQospQvbs",
        "colab": {
          "base_uri": "https://localhost:8080/",
          "height": 227
        },
        "outputId": "e1ba77f1-6bfd-464d-e25a-498db580b33d"
      },
      "source": [
        "\n",
        "Daily = df.reset_index().groupby(['State','StatusDate']).sum()\n",
        "Daily.head()"
      ],
      "execution_count": null,
      "outputs": [
        {
          "output_type": "execute_result",
          "data": {
            "text/html": [
              "<div>\n",
              "<style scoped>\n",
              "    .dataframe tbody tr th:only-of-type {\n",
              "        vertical-align: middle;\n",
              "    }\n",
              "\n",
              "    .dataframe tbody tr th {\n",
              "        vertical-align: top;\n",
              "    }\n",
              "\n",
              "    .dataframe thead th {\n",
              "        text-align: right;\n",
              "    }\n",
              "</style>\n",
              "<table border=\"1\" class=\"dataframe\">\n",
              "  <thead>\n",
              "    <tr style=\"text-align: right;\">\n",
              "      <th></th>\n",
              "      <th></th>\n",
              "      <th>Status</th>\n",
              "      <th>CustomerCount</th>\n",
              "    </tr>\n",
              "    <tr>\n",
              "      <th>State</th>\n",
              "      <th>StatusDate</th>\n",
              "      <th></th>\n",
              "      <th></th>\n",
              "    </tr>\n",
              "  </thead>\n",
              "  <tbody>\n",
              "    <tr>\n",
              "      <th rowspan=\"5\" valign=\"top\">FL</th>\n",
              "      <th>2009-01-12</th>\n",
              "      <td>1</td>\n",
              "      <td>901</td>\n",
              "    </tr>\n",
              "    <tr>\n",
              "      <th>2009-02-02</th>\n",
              "      <td>1</td>\n",
              "      <td>653</td>\n",
              "    </tr>\n",
              "    <tr>\n",
              "      <th>2009-03-23</th>\n",
              "      <td>1</td>\n",
              "      <td>752</td>\n",
              "    </tr>\n",
              "    <tr>\n",
              "      <th>2009-04-06</th>\n",
              "      <td>2</td>\n",
              "      <td>1086</td>\n",
              "    </tr>\n",
              "    <tr>\n",
              "      <th>2009-06-08</th>\n",
              "      <td>1</td>\n",
              "      <td>649</td>\n",
              "    </tr>\n",
              "  </tbody>\n",
              "</table>\n",
              "</div>"
            ],
            "text/plain": [
              "                  Status  CustomerCount\n",
              "State StatusDate                       \n",
              "FL    2009-01-12       1            901\n",
              "      2009-02-02       1            653\n",
              "      2009-03-23       1            752\n",
              "      2009-04-06       2           1086\n",
              "      2009-06-08       1            649"
            ]
          },
          "metadata": {
            "tags": []
          },
          "execution_count": 67
        }
      ]
    },
    {
      "cell_type": "markdown",
      "metadata": {
        "id": "BX3RDQR5WkjM"
      },
      "source": [
        "reset index"
      ]
    },
    {
      "cell_type": "code",
      "metadata": {
        "id": "8-P_bVxzQwod"
      },
      "source": [
        "del Daily['Status']\n",
        "Daily.head()"
      ],
      "execution_count": null,
      "outputs": []
    },
    {
      "cell_type": "markdown",
      "metadata": {
        "id": "iN96BowwW6dL"
      },
      "source": [
        "xóa cột Status"
      ]
    },
    {
      "cell_type": "code",
      "metadata": {
        "id": "Ry6NtKwXQyLE"
      },
      "source": [
        "\n",
        "Daily.index"
      ],
      "execution_count": null,
      "outputs": []
    },
    {
      "cell_type": "markdown",
      "metadata": {
        "id": "uvj1rRdUXFG7"
      },
      "source": [
        "dataframe của index"
      ]
    },
    {
      "cell_type": "code",
      "metadata": {
        "id": "gVG9AB7vQzYd",
        "colab": {
          "base_uri": "https://localhost:8080/"
        },
        "outputId": "6142b8b7-27a4-4c2b-a7ba-12123b124007"
      },
      "source": [
        "\n",
        "Daily.index.levels[0]"
      ],
      "execution_count": null,
      "outputs": [
        {
          "output_type": "execute_result",
          "data": {
            "text/plain": [
              "Index(['FL', 'GA', 'NY', 'TX'], dtype='object', name='State')"
            ]
          },
          "metadata": {
            "tags": []
          },
          "execution_count": 80
        }
      ]
    },
    {
      "cell_type": "markdown",
      "metadata": {
        "id": "46hnGzBTXQPz"
      },
      "source": [
        "chỉ chọn State"
      ]
    },
    {
      "cell_type": "code",
      "metadata": {
        "id": "s166q3C-Q1Xs"
      },
      "source": [
        "\n",
        "Daily.index.levels[1]"
      ],
      "execution_count": null,
      "outputs": []
    },
    {
      "cell_type": "markdown",
      "metadata": {
        "id": "Z2Uxc993XXNz"
      },
      "source": [
        "chỉ chọn StatusDate "
      ]
    },
    {
      "cell_type": "code",
      "metadata": {
        "id": "cupyKHa5Q2hV"
      },
      "source": [
        "Daily.loc['FL'].plot()\n",
        "Daily.loc['GA'].plot()\n",
        "Daily.loc['NY'].plot()\n",
        "Daily.loc['TX'].plot();"
      ],
      "execution_count": null,
      "outputs": []
    },
    {
      "cell_type": "markdown",
      "metadata": {
        "id": "tUlU13GtXlJb"
      },
      "source": [
        "Biểu đồ theo cột trạng thái\n"
      ]
    },
    {
      "cell_type": "code",
      "metadata": {
        "id": "Q7wfRmvrQ4Bk"
      },
      "source": [
        "Daily.loc['FL']['2012':].plot()\n",
        "Daily.loc['GA']['2012':].plot()\n",
        "Daily.loc['NY']['2012':].plot()\n",
        "Daily.loc['TX']['2012':].plot();"
      ],
      "execution_count": null,
      "outputs": []
    },
    {
      "cell_type": "markdown",
      "metadata": {
        "id": "PGyf5-fsXs6D"
      },
      "source": [
        "Vẽ biểu đồ năm 2012"
      ]
    },
    {
      "cell_type": "code",
      "metadata": {
        "id": "TXg90TBpQ6h7"
      },
      "source": [
        "# Calculate Outliers\n",
        "StateYearMonth = Daily.groupby([Daily.index.get_level_values(0), Daily.index.get_level_values(1).year, Daily.index.get_level_values(1).month])\n",
        "Daily['Lower'] = StateYearMonth['CustomerCount'].transform( lambda x: x.quantile(q=.25) - (1.5*x.quantile(q=.75)-x.quantile(q=.25)) )\n",
        "Daily['Upper'] = StateYearMonth['CustomerCount'].transform( lambda x: x.quantile(q=.75) + (1.5*x.quantile(q=.75)-x.quantile(q=.25)) )\n",
        "Daily['Outlier'] = (Daily['CustomerCount'] < Daily['Lower']) | (Daily['CustomerCount'] > Daily['Upper']) \n",
        "\n",
        "# Remove Outliers\n",
        "Daily = Daily[Daily['Outlier'] == False]"
      ],
      "execution_count": null,
      "outputs": []
    },
    {
      "cell_type": "code",
      "metadata": {
        "id": "RqGSxupUQ8AE",
        "colab": {
          "base_uri": "https://localhost:8080/",
          "height": 227
        },
        "outputId": "9eb6b1dd-c4af-4de0-f62c-957058ef0427"
      },
      "source": [
        "Daily.head()"
      ],
      "execution_count": null,
      "outputs": [
        {
          "output_type": "execute_result",
          "data": {
            "text/html": [
              "<div>\n",
              "<style scoped>\n",
              "    .dataframe tbody tr th:only-of-type {\n",
              "        vertical-align: middle;\n",
              "    }\n",
              "\n",
              "    .dataframe tbody tr th {\n",
              "        vertical-align: top;\n",
              "    }\n",
              "\n",
              "    .dataframe thead th {\n",
              "        text-align: right;\n",
              "    }\n",
              "</style>\n",
              "<table border=\"1\" class=\"dataframe\">\n",
              "  <thead>\n",
              "    <tr style=\"text-align: right;\">\n",
              "      <th></th>\n",
              "      <th></th>\n",
              "      <th>CustomerCount</th>\n",
              "      <th>Lower</th>\n",
              "      <th>Upper</th>\n",
              "      <th>Outlier</th>\n",
              "    </tr>\n",
              "    <tr>\n",
              "      <th>State</th>\n",
              "      <th>StatusDate</th>\n",
              "      <th></th>\n",
              "      <th></th>\n",
              "      <th></th>\n",
              "      <th></th>\n",
              "    </tr>\n",
              "  </thead>\n",
              "  <tbody>\n",
              "    <tr>\n",
              "      <th rowspan=\"5\" valign=\"top\">FL</th>\n",
              "      <th>2009-01-12</th>\n",
              "      <td>901</td>\n",
              "      <td>450.5</td>\n",
              "      <td>1351.5</td>\n",
              "      <td>False</td>\n",
              "    </tr>\n",
              "    <tr>\n",
              "      <th>2009-02-02</th>\n",
              "      <td>653</td>\n",
              "      <td>326.5</td>\n",
              "      <td>979.5</td>\n",
              "      <td>False</td>\n",
              "    </tr>\n",
              "    <tr>\n",
              "      <th>2009-03-23</th>\n",
              "      <td>752</td>\n",
              "      <td>376.0</td>\n",
              "      <td>1128.0</td>\n",
              "      <td>False</td>\n",
              "    </tr>\n",
              "    <tr>\n",
              "      <th>2009-04-06</th>\n",
              "      <td>1086</td>\n",
              "      <td>543.0</td>\n",
              "      <td>1629.0</td>\n",
              "      <td>False</td>\n",
              "    </tr>\n",
              "    <tr>\n",
              "      <th>2009-06-08</th>\n",
              "      <td>649</td>\n",
              "      <td>324.5</td>\n",
              "      <td>973.5</td>\n",
              "      <td>False</td>\n",
              "    </tr>\n",
              "  </tbody>\n",
              "</table>\n",
              "</div>"
            ],
            "text/plain": [
              "                  CustomerCount  Lower   Upper  Outlier\n",
              "State StatusDate                                       \n",
              "FL    2009-01-12            901  450.5  1351.5    False\n",
              "      2009-02-02            653  326.5   979.5    False\n",
              "      2009-03-23            752  376.0  1128.0    False\n",
              "      2009-04-06           1086  543.0  1629.0    False\n",
              "      2009-06-08            649  324.5   973.5    False"
            ]
          },
          "metadata": {
            "tags": []
          },
          "execution_count": 29
        }
      ]
    },
    {
      "cell_type": "code",
      "metadata": {
        "id": "rLjoVJsdQ-t2",
        "colab": {
          "base_uri": "https://localhost:8080/",
          "height": 227
        },
        "outputId": "b6c027ca-a010-4a08-a70e-400262708a34"
      },
      "source": [
        "# Combine all markets\n",
        "\n",
        "# Get the max customer count by Date\n",
        "ALL = pd.DataFrame(Daily['CustomerCount'].groupby(Daily.index.get_level_values(1)).sum())\n",
        "ALL.columns = ['CustomerCount'] # rename column\n",
        "\n",
        "# Group by Year and Month\n",
        "YearMonth = ALL.groupby([lambda x: x.year, lambda x: x.month])\n",
        "\n",
        "# What is the max customer count per Year and Month\n",
        "ALL['Max'] = YearMonth['CustomerCount'].transform(lambda x: x.max())\n",
        "ALL.head()"
      ],
      "execution_count": null,
      "outputs": [
        {
          "output_type": "execute_result",
          "data": {
            "text/html": [
              "<div>\n",
              "<style scoped>\n",
              "    .dataframe tbody tr th:only-of-type {\n",
              "        vertical-align: middle;\n",
              "    }\n",
              "\n",
              "    .dataframe tbody tr th {\n",
              "        vertical-align: top;\n",
              "    }\n",
              "\n",
              "    .dataframe thead th {\n",
              "        text-align: right;\n",
              "    }\n",
              "</style>\n",
              "<table border=\"1\" class=\"dataframe\">\n",
              "  <thead>\n",
              "    <tr style=\"text-align: right;\">\n",
              "      <th></th>\n",
              "      <th>CustomerCount</th>\n",
              "      <th>Max</th>\n",
              "    </tr>\n",
              "    <tr>\n",
              "      <th>StatusDate</th>\n",
              "      <th></th>\n",
              "      <th></th>\n",
              "    </tr>\n",
              "  </thead>\n",
              "  <tbody>\n",
              "    <tr>\n",
              "      <th>2009-01-05</th>\n",
              "      <td>877</td>\n",
              "      <td>901</td>\n",
              "    </tr>\n",
              "    <tr>\n",
              "      <th>2009-01-12</th>\n",
              "      <td>901</td>\n",
              "      <td>901</td>\n",
              "    </tr>\n",
              "    <tr>\n",
              "      <th>2009-01-19</th>\n",
              "      <td>522</td>\n",
              "      <td>901</td>\n",
              "    </tr>\n",
              "    <tr>\n",
              "      <th>2009-02-02</th>\n",
              "      <td>953</td>\n",
              "      <td>953</td>\n",
              "    </tr>\n",
              "    <tr>\n",
              "      <th>2009-02-23</th>\n",
              "      <td>710</td>\n",
              "      <td>953</td>\n",
              "    </tr>\n",
              "  </tbody>\n",
              "</table>\n",
              "</div>"
            ],
            "text/plain": [
              "            CustomerCount  Max\n",
              "StatusDate                    \n",
              "2009-01-05            877  901\n",
              "2009-01-12            901  901\n",
              "2009-01-19            522  901\n",
              "2009-02-02            953  953\n",
              "2009-02-23            710  953"
            ]
          },
          "metadata": {
            "tags": []
          },
          "execution_count": 81
        }
      ]
    },
    {
      "cell_type": "code",
      "metadata": {
        "id": "AS71EckqRCGd"
      },
      "source": [
        "pd.date_range?"
      ],
      "execution_count": null,
      "outputs": []
    },
    {
      "cell_type": "code",
      "metadata": {
        "id": "hrfdtZu9RPTV"
      },
      "source": [
        "\n",
        "data = [1000,2000,3000]\n",
        "idx = pd.date_range(start='12/31/2011', end='12/31/2013', freq='A')\n",
        "BHAG = pd.DataFrame(data, index=idx, columns=['BHAG'])\n",
        "BHAG"
      ],
      "execution_count": null,
      "outputs": []
    },
    {
      "cell_type": "markdown",
      "metadata": {
        "id": "PdnBrwrMYpqt"
      },
      "source": [
        "Tạo dataframe BHAG"
      ]
    },
    {
      "cell_type": "code",
      "metadata": {
        "id": "xEskIIxNRT8-"
      },
      "source": [
        "\n",
        "combined = pd.concat([ALL,BHAG], axis=0)\n",
        "combined = combined.sort_index(axis=0)\n",
        "combined.tail()"
      ],
      "execution_count": null,
      "outputs": []
    },
    {
      "cell_type": "markdown",
      "metadata": {
        "id": "c2ncAMbJYgjM"
      },
      "source": [
        "Kết hợp các khung dữ liệu"
      ]
    },
    {
      "cell_type": "code",
      "metadata": {
        "id": "mq8o1Ud0RVhP"
      },
      "source": [
        "fig, axes = plt.subplots(figsize=(12, 7))\n",
        "\n",
        "combined['BHAG'].fillna(method='pad').plot(color='green', label='BHAG')\n",
        "combined['Max'].plot(color='blue', label='All Markets')\n",
        "plt.legend(loc='best');"
      ],
      "execution_count": null,
      "outputs": []
    },
    {
      "cell_type": "markdown",
      "metadata": {
        "id": "dpDJ5I5uZDcj"
      },
      "source": [
        "Vẽ biểu đồ"
      ]
    },
    {
      "cell_type": "code",
      "metadata": {
        "id": "ORUbTRa-RW99"
      },
      "source": [
        "# Group by Year and then get the max value per year\n",
        "Year = combined.groupby(lambda x: x.year).max()\n",
        "Year"
      ],
      "execution_count": null,
      "outputs": []
    },
    {
      "cell_type": "markdown",
      "metadata": {
        "id": "smZLYU1gY5jq"
      },
      "source": [
        "Nhóm khung dữ liệu theo năm và khách hàng tối đa của năm đó"
      ]
    },
    {
      "cell_type": "code",
      "metadata": {
        "id": "c-KgbIVqRYXV",
        "colab": {
          "base_uri": "https://localhost:8080/",
          "height": 197
        },
        "outputId": "5f01efa6-5466-4751-b552-f6a0462c47cd"
      },
      "source": [
        "# Add a column representing the percent change per year\n",
        "Year['YR_PCT_Change'] = Year['Max'].pct_change(periods=1)\n",
        "Year"
      ],
      "execution_count": null,
      "outputs": [
        {
          "output_type": "execute_result",
          "data": {
            "text/html": [
              "<div>\n",
              "<style scoped>\n",
              "    .dataframe tbody tr th:only-of-type {\n",
              "        vertical-align: middle;\n",
              "    }\n",
              "\n",
              "    .dataframe tbody tr th {\n",
              "        vertical-align: top;\n",
              "    }\n",
              "\n",
              "    .dataframe thead th {\n",
              "        text-align: right;\n",
              "    }\n",
              "</style>\n",
              "<table border=\"1\" class=\"dataframe\">\n",
              "  <thead>\n",
              "    <tr style=\"text-align: right;\">\n",
              "      <th></th>\n",
              "      <th>CustomerCount</th>\n",
              "      <th>Max</th>\n",
              "      <th>BHAG</th>\n",
              "      <th>YR_PCT_Change</th>\n",
              "    </tr>\n",
              "  </thead>\n",
              "  <tbody>\n",
              "    <tr>\n",
              "      <th>2009</th>\n",
              "      <td>2452.0</td>\n",
              "      <td>2452.0</td>\n",
              "      <td>NaN</td>\n",
              "      <td>NaN</td>\n",
              "    </tr>\n",
              "    <tr>\n",
              "      <th>2010</th>\n",
              "      <td>2065.0</td>\n",
              "      <td>2065.0</td>\n",
              "      <td>NaN</td>\n",
              "      <td>-0.157830</td>\n",
              "    </tr>\n",
              "    <tr>\n",
              "      <th>2011</th>\n",
              "      <td>2711.0</td>\n",
              "      <td>2711.0</td>\n",
              "      <td>1000.0</td>\n",
              "      <td>0.312833</td>\n",
              "    </tr>\n",
              "    <tr>\n",
              "      <th>2012</th>\n",
              "      <td>2061.0</td>\n",
              "      <td>2061.0</td>\n",
              "      <td>2000.0</td>\n",
              "      <td>-0.239764</td>\n",
              "    </tr>\n",
              "    <tr>\n",
              "      <th>2013</th>\n",
              "      <td>NaN</td>\n",
              "      <td>NaN</td>\n",
              "      <td>3000.0</td>\n",
              "      <td>0.000000</td>\n",
              "    </tr>\n",
              "  </tbody>\n",
              "</table>\n",
              "</div>"
            ],
            "text/plain": [
              "      CustomerCount     Max    BHAG  YR_PCT_Change\n",
              "2009         2452.0  2452.0     NaN            NaN\n",
              "2010         2065.0  2065.0     NaN      -0.157830\n",
              "2011         2711.0  2711.0  1000.0       0.312833\n",
              "2012         2061.0  2061.0  2000.0      -0.239764\n",
              "2013            NaN     NaN  3000.0       0.000000"
            ]
          },
          "metadata": {
            "tags": []
          },
          "execution_count": 37
        }
      ]
    },
    {
      "cell_type": "code",
      "metadata": {
        "id": "_-2lmrJ4RZ0l",
        "colab": {
          "base_uri": "https://localhost:8080/"
        },
        "outputId": "61df7f87-f002-4438-fccd-7041cca7b9b8"
      },
      "source": [
        "(1 + Year.loc[2012,'YR_PCT_Change']) * Year.loc[2012,'Max']"
      ],
      "execution_count": null,
      "outputs": [
        {
          "output_type": "execute_result",
          "data": {
            "text/plain": [
              "1566.8465510881595"
            ]
          },
          "metadata": {
            "tags": []
          },
          "execution_count": 38
        }
      ]
    },
    {
      "cell_type": "markdown",
      "metadata": {
        "id": "KDKuzQ7GZL3j"
      },
      "source": [
        "Dự báo số lượng khách hàng cuối năm tới"
      ]
    },
    {
      "cell_type": "code",
      "metadata": {
        "id": "xTcjy6fdRcAH"
      },
      "source": [
        "# First Graph\n",
        "ALL['Max'].plot(figsize=(10, 5));plt.title('ALL Markets')\n",
        "\n",
        "# Last four Graphs\n",
        "fig, axes = plt.subplots(nrows=2, ncols=2, figsize=(20, 10))\n",
        "fig.subplots_adjust(hspace=1.0) ## Create space between plots\n",
        "\n",
        "Daily.loc['FL']['CustomerCount']['2012':].fillna(method='pad').plot(ax=axes[0,0])\n",
        "Daily.loc['GA']['CustomerCount']['2012':].fillna(method='pad').plot(ax=axes[0,1]) \n",
        "Daily.loc['TX']['CustomerCount']['2012':].fillna(method='pad').plot(ax=axes[1,0]) \n",
        "Daily.loc['NY']['CustomerCount']['2012':].fillna(method='pad').plot(ax=axes[1,1]) \n",
        "\n",
        "# Add titles\n",
        "axes[0,0].set_title('Florida')\n",
        "axes[0,1].set_title('Georgia')\n",
        "axes[1,0].set_title('Texas')\n",
        "axes[1,1].set_title('North East');"
      ],
      "execution_count": null,
      "outputs": []
    },
    {
      "cell_type": "markdown",
      "metadata": {
        "id": "ONVzM0WHZJti"
      },
      "source": [
        "Vẽ biểu đồ"
      ]
    }
  ]
}