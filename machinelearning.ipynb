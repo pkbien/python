{
  "nbformat": 4,
  "nbformat_minor": 0,
  "metadata": {
    "colab": {
      "name": "machinelearning.ipynb",
      "provenance": [],
      "collapsed_sections": []
    },
    "kernelspec": {
      "name": "python3",
      "display_name": "Python 3"
    }
  },
  "cells": [
    {
      "cell_type": "code",
      "metadata": {
        "id": "n5ZpfF7lInZY"
      },
      "source": [
        "import numpy as np \n",
        "import matplotlib.pyplot as plt"
      ],
      "execution_count": null,
      "outputs": []
    },
    {
      "cell_type": "code",
      "metadata": {
        "id": "r21_iOSII5vy"
      },
      "source": [
        "# chiều cao (cm)\n",
        "X = np.array([[147, 150, 153, 158, 163, 165, 168, 170, 173, 175, 178, 180, 183]]).T\n",
        "# cân nặng (kg)\n",
        "y = np.array([[ 49, 50, 51,  54, 58, 59, 60, 62, 63, 64, 66, 67, 68]]).T"
      ],
      "execution_count": null,
      "outputs": []
    },
    {
      "cell_type": "code",
      "metadata": {
        "id": "TrLSsUdyJb8Q",
        "colab": {
          "base_uri": "https://localhost:8080/",
          "height": 284
        },
        "outputId": "4a0f66d8-804d-478c-acb0-73548fecc29b"
      },
      "source": [
        "plt.plot(X, y, 'ro')\n",
        "plt.axis([140, 190, 45, 75])\n",
        "plt.xlabel('Chiều cao (cm)')\n",
        "plt.ylabel('Cân nặng (kg)')\n",
        "plt.show()"
      ],
      "execution_count": null,
      "outputs": [
        {
          "output_type": "display_data",
          "data": {
            "image/png": "[encoded data removed]",
            "text/plain": [
              "<Figure size 432x288 with 1 Axes>"
            ]
          },
          "metadata": {
            "tags": [],
            "needs_background": "light"
          }
        }
      ]
    },
    {
      "cell_type": "code",
      "metadata": {
        "id": "z2uCqJr4J47Y",
        "colab": {
          "base_uri": "https://localhost:8080/",
          "height": 318
        },
        "outputId": "4b9e953d-edcf-4e8e-c485-ef908c9aad11"
      },
      "source": [
        "one = np.ones((X.shape[0], 1))\n",
        "Xbar = np.concatenate((one, X), axis = 1)\n",
        "A = np.dot(Xbar.T, Xbar)\n",
        "b = np.dot(Xbar.T, y)\n",
        "w = np.dot(np.linalg.pinv(A), b)\n",
        "print('w = ', w)\n",
        "w_0 = w[0][0]\n",
        "w_1 = w[1][0]\n",
        "x0 = np.linspace(145, 185, 2)\n",
        "y0 = w_0 + w_1*x0\n",
        "plt.plot(X.T, y.T, 'ro')    \n",
        "plt.plot(x0, y0)             \n",
        "plt.axis([140, 190, 45, 75])\n",
        "plt.xlabel('Chiều cao (cm)')\n",
        "plt.ylabel('Cân nặng (kg)')\n",
        "plt.show()"
      ],
      "execution_count": null,
      "outputs": [
        {
          "output_type": "stream",
          "text": [
            "w =  [[-33.73541021]\n",
            " [  0.55920496]]\n"
          ],
          "name": "stdout"
        },
        {
          "output_type": "display_data",
          "data": {
            "image/png": "[encoded data removed]",
            "text/plain": [
              "<Figure size 432x288 with 1 Axes>"
            ]
          },
          "metadata": {
            "tags": [],
            "needs_background": "light"
          }
        }
      ]
    },
    {
      "cell_type": "code",
      "metadata": {
        "id": "MI3IHRZ0KljQ",
        "colab": {
          "base_uri": "https://localhost:8080/"
        },
        "outputId": "7947f3f3-25ec-44a5-f128-a792ec069ea2"
      },
      "source": [
        "y1 = w_1*155 + w_0\n",
        "y2 = w_1*160 + w_0\n",
        "print( u'dự đoán cân nặng của người cao 155 cm: %.2f (kg), số liệu thật: 52 (kg)'  %(y1) )\n",
        "print( u'dự đoán cân nặng của người cao 160 cm: %.2f (kg), số liệu thật: 56 (kg)'  %(y2) )"
      ],
      "execution_count": null,
      "outputs": [
        {
          "output_type": "stream",
          "text": [
            "dự đoán cân nặng của người cao 155 cm: 52.94 (kg), số liệu thật: 52 (kg)\n",
            "dự đoán cân nặng của người cao 160 cm: 55.74 (kg), số liệu thật: 56 (kg)\n"
          ],
          "name": "stdout"
        }
      ]
    },
    {
      "cell_type": "code",
      "metadata": {
        "id": "ZIihOTNsLOnY",
        "colab": {
          "base_uri": "https://localhost:8080/"
        },
        "outputId": "2a9dce08-18c9-4d20-84e8-6dce3b9d1420"
      },
      "source": [
        "from sklearn import datasets, linear_model\n",
        "regr = linear_model.LinearRegression(fit_intercept=False) # fit_intercept = False for calculating the bias\n",
        "regr.fit(Xbar, y)\n",
        "print( 'tìm nghiệm bằng scikit-learn  : ', regr.coef_ )\n",
        "print( 'tìm nghiệm bằng phương trình (5): ', w.T)"
      ],
      "execution_count": null,
      "outputs": [
        {
          "output_type": "stream",
          "text": [
            "tìm nghiệm bằng scikit-learn  :  [[-33.73541021   0.55920496]]\n",
            "tìm nghiệm bằng phương trình (5):  [[-33.73541021   0.55920496]]\n"
          ],
          "name": "stdout"
        }
      ]
    }
  ]
}